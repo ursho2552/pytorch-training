{
 "cells": [
  {
   "cell_type": "markdown",
   "id": "380478ca-79e3-49a0-8676-ee8cf2dea112",
   "metadata": {},
   "source": [
    "# BERT Step by Step: Contextual representations\n",
    "\n",
    "Contextual representations are dynamic word embeddings that capture the meaning of a word based on its surrounding context. Unlike static embeddings, they adapt to different usages of the same word in different sentences."
   ]
  },
  {
   "cell_type": "code",
   "execution_count": 1,
   "id": "aef9a343-af66-40c2-bbb2-ae0473c41e62",
   "metadata": {},
   "outputs": [
    {
     "name": "stderr",
     "output_type": "stream",
     "text": [
      "/usr/local/lib/python3.12/dist-packages/tqdm/auto.py:21: TqdmWarning: IProgress not found. Please update jupyter and ipywidgets. See https://ipywidgets.readthedocs.io/en/stable/user_install.html\n",
      "  from .autonotebook import tqdm as notebook_tqdm\n"
     ]
    }
   ],
   "source": [
    "import torch\n",
    "from transformers import AutoConfig, AutoTokenizer\n",
    "from transformers import BertForPreTraining"
   ]
  },
  {
   "cell_type": "code",
   "execution_count": 2,
   "id": "40cd3506-1e3c-4cf0-8663-e000df0a6865",
   "metadata": {},
   "outputs": [],
   "source": [
    "model_checkpoint = 'bert-base-uncased'\n",
    "\n",
    "tokenizer = AutoTokenizer.from_pretrained(model_checkpoint)\n",
    "model = BertForPreTraining.from_pretrained(model_checkpoint)\n",
    "config = AutoConfig.from_pretrained(model_checkpoint)"
   ]
  },
  {
   "cell_type": "code",
   "execution_count": 3,
   "id": "9b93d0e0-a4e9-4db7-95e0-dc57c457a9b1",
   "metadata": {},
   "outputs": [
    {
     "name": "stdout",
     "output_type": "stream",
     "text": [
      "Similarity: 0.29\n"
     ]
    }
   ],
   "source": [
    "# small experiment with similarities between embeddings\n",
    "\n",
    "token1 = tokenizer.convert_tokens_to_ids(['bank'])\n",
    "embedding1 = model.bert.embeddings.word_embeddings(torch.tensor(token1))\n",
    "\n",
    "token2 = tokenizer.convert_tokens_to_ids(['vault'])\n",
    "embedding2 = model.bert.embeddings.word_embeddings(torch.tensor(token2))\n",
    "\n",
    "# cosine similarity\n",
    "# embedding1 @ embedding2.T / torch.norm(embedding1) / torch.norm(embedding2)\n",
    "cos = torch.nn.CosineSimilarity()\n",
    "\n",
    "similarity = cos(embedding1, embedding2)\n",
    "print(f\"Similarity: {similarity.detach().numpy()[0]:.2f}\")"
   ]
  },
  {
   "cell_type": "code",
   "execution_count": 4,
   "id": "53a8529b-7bc3-4f1f-9d4b-8fac3c48290e",
   "metadata": {},
   "outputs": [
    {
     "name": "stdout",
     "output_type": "stream",
     "text": [
      "Contextual similarity: 0.52\n"
     ]
    }
   ],
   "source": [
    "sent1 = \"We deposited the check at the bank.\"\n",
    "# sent1 = \"They sat on the bank of the river.\"\n",
    "sent2 = \"All the valuables are safe in the vault.\"\n",
    "# sent2 = \"We deposited the check at the bank.\"\n",
    "\n",
    "inputs1 = tokenizer(sent1, return_tensors=\"pt\")\n",
    "inputs2 = tokenizer(sent2, return_tensors=\"pt\")\n",
    "\n",
    "bank_idx1 = (inputs1['input_ids'][0] == tokenizer.convert_tokens_to_ids(\"bank\")).nonzero().item()\n",
    "bank_idx2 = (inputs2['input_ids'][0] == tokenizer.convert_tokens_to_ids(\"vault\")).nonzero().item()\n",
    "\n",
    "with torch.no_grad():\n",
    "    output1 = model.bert(**inputs1)\n",
    "    output2 = model.bert(**inputs2)\n",
    "\n",
    "vec1 = output1.last_hidden_state[0, bank_idx1, :]\n",
    "vec2 = output2.last_hidden_state[0, bank_idx2, :]\n",
    "\n",
    "similarity = cos(vec1.unsqueeze(0), vec2.unsqueeze(0)).item()\n",
    "print(f\"Contextual similarity: {similarity:.2f}\")"
   ]
  },
  {
   "cell_type": "code",
   "execution_count": null,
   "id": "fd5258fc-81a0-4dfd-9e02-b74c470b9456",
   "metadata": {},
   "outputs": [],
   "source": []
  }
 ],
 "metadata": {
  "kernelspec": {
   "display_name": "Python 3 (ipykernel)",
   "language": "python",
   "name": "python3"
  },
  "language_info": {
   "codemirror_mode": {
    "name": "ipython",
    "version": 3
   },
   "file_extension": ".py",
   "mimetype": "text/x-python",
   "name": "python",
   "nbconvert_exporter": "python",
   "pygments_lexer": "ipython3",
   "version": "3.12.3"
  }
 },
 "nbformat": 4,
 "nbformat_minor": 5
}
