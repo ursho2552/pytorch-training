{
 "cells": [
  {
   "cell_type": "markdown",
   "id": "40b8ba67-c147-4480-87a8-d3a0da97de6f",
   "metadata": {},
   "source": [
    "# Object detection pipeline\n",
    "\n",
    "https://huggingface.co/tasks/object-detection"
   ]
  },
  {
   "cell_type": "code",
   "execution_count": null,
   "id": "b8ebf620-4e91-4b1a-b21c-5ee63084c981",
   "metadata": {},
   "outputs": [],
   "source": [
    "from transformers import pipeline"
   ]
  },
  {
   "cell_type": "code",
   "execution_count": null,
   "id": "f6ea84ce-a6fc-446d-9db5-7d247ec07ecc",
   "metadata": {},
   "outputs": [],
   "source": [
    "# !pip install timm"
   ]
  },
  {
   "cell_type": "code",
   "execution_count": null,
   "id": "3825592f-5063-4a0e-8850-003af8ff8037",
   "metadata": {},
   "outputs": [],
   "source": [
    "det = pipeline(\"object-detection\")"
   ]
  },
  {
   "cell_type": "code",
   "execution_count": null,
   "id": "47b1d483-3f54-420d-ae62-b4c941ad5df1",
   "metadata": {},
   "outputs": [],
   "source": [
    "img_url = \"https://www.waldwissen.net/assets/wald/tiere/saeuger/lwf_farbhoernchen/lwf_farbhoernchen_dunkel.jpg\"\n",
    "det(img_url)"
   ]
  },
  {
   "cell_type": "code",
   "execution_count": null,
   "id": "0dc9c168-9d5f-4890-ac2d-f6b338ce278f",
   "metadata": {},
   "outputs": [],
   "source": [
    "from PIL import Image, ImageDraw\n",
    "import requests\n",
    "from io import BytesIO\n",
    "import matplotlib.pyplot as plt\n",
    "\n",
    "# Model output\n",
    "prediction = det(img_url)\n",
    "\n",
    "# Image URL\n",
    "url = img_url\n",
    "\n",
    "# Load image from URL\n",
    "response = requests.get(url)\n",
    "image = Image.open(BytesIO(response.content)).convert(\"RGB\")\n",
    "\n",
    "# Draw boxes\n",
    "draw = ImageDraw.Draw(image)\n",
    "for pred in prediction:\n",
    "    box = pred['box']\n",
    "    label = pred['label']\n",
    "    score = pred['score']\n",
    "    \n",
    "    draw.rectangle(\n",
    "        [(box['xmin'], box['ymin']), (box['xmax'], box['ymax'])],\n",
    "        outline='red',\n",
    "        width=3\n",
    "    )\n",
    "    draw.text((box['xmin'], box['ymin'] - 10), f\"{label} ({score:.2f})\", fill='red')\n",
    "\n",
    "# Show image inline using matplotlib\n",
    "plt.figure(figsize=(8, 6))\n",
    "plt.imshow(image)\n",
    "plt.axis('off')\n",
    "plt.show()"
   ]
  }
 ],
 "metadata": {
  "kernelspec": {
   "display_name": "Python 3 (ipykernel)",
   "language": "python",
   "name": "python3"
  },
  "language_info": {
   "codemirror_mode": {
    "name": "ipython",
    "version": 3
   },
   "file_extension": ".py",
   "mimetype": "text/x-python",
   "name": "python",
   "nbconvert_exporter": "python",
   "pygments_lexer": "ipython3",
   "version": "3.12.3"
  }
 },
 "nbformat": 4,
 "nbformat_minor": 5
}
