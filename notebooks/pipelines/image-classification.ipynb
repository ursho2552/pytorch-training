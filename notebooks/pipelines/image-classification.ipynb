{
 "cells": [
  {
   "cell_type": "markdown",
   "id": "df1b8d76-d5f0-4851-885b-f9a368fe05f5",
   "metadata": {},
   "source": [
    "# Image classification pipeline\n",
    "\n",
    "https://huggingface.co/tasks/image-classification"
   ]
  },
  {
   "cell_type": "code",
   "execution_count": null,
   "id": "b8ebf620-4e91-4b1a-b21c-5ee63084c981",
   "metadata": {},
   "outputs": [],
   "source": [
    "from transformers import pipeline"
   ]
  },
  {
   "cell_type": "code",
   "execution_count": null,
   "id": "e4fb4031-0ecb-4dd8-86ae-6316ec0d4bf4",
   "metadata": {},
   "outputs": [],
   "source": [
    "clf = pipeline(\"image-classification\")"
   ]
  },
  {
   "cell_type": "markdown",
   "id": "b9d7971d-1817-4309-9b4b-bda31ea7835f",
   "metadata": {},
   "source": [
    "<img\n",
    "src=\"https://www.waldwissen.net/assets/wald/tiere/saeuger/lwf_farbhoernchen/lwf_farbhoernchen_dunkel.jpg\" alt=\"Description\" width=\"400\"/>"
   ]
  },
  {
   "cell_type": "code",
   "execution_count": null,
   "id": "47b1d483-3f54-420d-ae62-b4c941ad5df1",
   "metadata": {},
   "outputs": [],
   "source": [
    "clf(\"https://www.waldwissen.net/assets/wald/tiere/saeuger/lwf_farbhoernchen/lwf_farbhoernchen_dunkel.jpg\")"
   ]
  },
  {
   "cell_type": "markdown",
   "id": "e9081b30-cf65-4345-bf92-25be8134eee4",
   "metadata": {},
   "source": [
    "<img\n",
    "src=\"https://media.cnn.com/api/v1/images/stellar/prod/230102104629-goat-banned-words.jpg\"\n",
    "alt=\"Description\" width=\"400\"/>"
   ]
  },
  {
   "cell_type": "code",
   "execution_count": null,
   "id": "fae4b5d4-4c82-4111-9e0a-c83f61c7ab43",
   "metadata": {},
   "outputs": [],
   "source": [
    "clf(\"https://media.cnn.com/api/v1/images/stellar/prod/230102104629-goat-banned-words.jpg\")"
   ]
  }
 ],
 "metadata": {
  "kernelspec": {
   "display_name": "Python 3 (ipykernel)",
   "language": "python",
   "name": "python3"
  },
  "language_info": {
   "codemirror_mode": {
    "name": "ipython",
    "version": 3
   },
   "file_extension": ".py",
   "mimetype": "text/x-python",
   "name": "python",
   "nbconvert_exporter": "python",
   "pygments_lexer": "ipython3",
   "version": "3.12.3"
  }
 },
 "nbformat": 4,
 "nbformat_minor": 5
}
