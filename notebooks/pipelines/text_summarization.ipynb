{
 "cells": [
  {
   "cell_type": "markdown",
   "id": "f9cc67c1-0268-492a-820c-d7817829e158",
   "metadata": {},
   "source": [
    "# Text summarization pipeline\n",
    "\n",
    "https://huggingface.co/tasks/summarization"
   ]
  },
  {
   "cell_type": "code",
   "execution_count": null,
   "id": "af2c19fe-650a-4fdf-b01e-b4ebe02c51d1",
   "metadata": {},
   "outputs": [],
   "source": [
    "from transformers import pipeline"
   ]
  },
  {
   "cell_type": "code",
   "execution_count": null,
   "id": "b9765036-c946-46b9-91a5-ca1ba4ee9cab",
   "metadata": {},
   "outputs": [],
   "source": [
    "long_text = \"\"\"In the current milieu of progressive paradigm shifts, it becomes increasingly imperative to engage\n",
    "in a comprehensive evaluation of multifaceted vectors that influence the overarching schema. By synthesizing\n",
    "cross-sectoral inputs through iterative feedback loops, we endeavor to instantiate a framework wherein dynamic\n",
    "equilibria can be sustained amidst fluctuating contingencies. This entails a rigorous alignment of granular data\n",
    "points with macro-level strategic imperatives, ensuring that adaptive mechanisms remain responsive without compromising\n",
    "the integrity of core competencies. Consequently, the integration of scalable methodologies, underpinned by robust\n",
    "analytic heuristics, facilitates an environment conducive to continuous recalibration and optimized throughput.\n",
    "Ultimately, the convergence of these iterative processes engenders a holistic ecosystem where synergistic potential\n",
    "is maximized, thereby positioning the entity at the nexus of innovation and operational excellence.\n",
    "\"\"\""
   ]
  },
  {
   "cell_type": "code",
   "execution_count": null,
   "id": "a10df779-c1c6-4eca-b11b-552dc5d4e5ba",
   "metadata": {},
   "outputs": [],
   "source": [
    "summarizer = pipeline(\"summarization\")"
   ]
  },
  {
   "cell_type": "code",
   "execution_count": null,
   "id": "a8742657-698d-4551-8577-11d61d98cb40",
   "metadata": {},
   "outputs": [],
   "source": [
    "summarizer(long_text)"
   ]
  },
  {
   "cell_type": "code",
   "execution_count": null,
   "id": "1c8e8858-5e1d-4133-a1d6-a32fa3abe4db",
   "metadata": {},
   "outputs": [],
   "source": [
    "summarizer = pipeline(\"summarization\", model=\"facebook/bart-large-cnn\")"
   ]
  },
  {
   "cell_type": "code",
   "execution_count": null,
   "id": "b8e484ec-b046-48de-96ab-ddd905052212",
   "metadata": {},
   "outputs": [],
   "source": [
    "summarizer(long_text)"
   ]
  },
  {
   "cell_type": "code",
   "execution_count": null,
   "id": "f2891edf-50e2-43e0-892c-0f68ec410ebb",
   "metadata": {},
   "outputs": [],
   "source": [
    "summarizer = pipeline(\"summarization\", model=\"google/pegasus-xsum\")"
   ]
  },
  {
   "cell_type": "code",
   "execution_count": null,
   "id": "072282a0-b8c6-4fdf-b9cc-a9dcaf7e3b62",
   "metadata": {},
   "outputs": [],
   "source": [
    "summarizer(long_text)"
   ]
  }
 ],
 "metadata": {
  "kernelspec": {
   "display_name": "Python 3 (ipykernel)",
   "language": "python",
   "name": "python3"
  },
  "language_info": {
   "codemirror_mode": {
    "name": "ipython",
    "version": 3
   },
   "file_extension": ".py",
   "mimetype": "text/x-python",
   "name": "python",
   "nbconvert_exporter": "python",
   "pygments_lexer": "ipython3",
   "version": "3.12.3"
  }
 },
 "nbformat": 4,
 "nbformat_minor": 5
}
